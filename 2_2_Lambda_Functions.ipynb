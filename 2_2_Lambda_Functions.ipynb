{
  "nbformat": 4,
  "nbformat_minor": 0,
  "metadata": {
    "colab": {
      "provenance": [],
      "authorship_tag": "ABX9TyO1RfolQUZvCH+MDn8bF57c"
    },
    "kernelspec": {
      "name": "python3",
      "display_name": "Python 3"
    },
    "language_info": {
      "name": "python"
    }
  },
  "cells": [
    {
      "cell_type": "code",
      "execution_count": null,
      "metadata": {
        "colab": {
          "base_uri": "https://localhost:8080/"
        },
        "id": "kfXaGsSIyG3q",
        "outputId": "b8e6edab-ca86-4d51-99bc-afbb0ea0ecc6"
      },
      "outputs": [
        {
          "output_type": "stream",
          "name": "stdout",
          "text": [
            "15\n"
          ]
        }
      ],
      "source": [
        "# Write a lambda function to add 10 to a given number and test it\n",
        "x = lambda a : a + 10\n",
        "print(x(5))\n"
      ]
    },
    {
      "cell_type": "code",
      "source": [
        "# Use a lambda function within the sorted() function to sort a list of tuples by the second element\n",
        "a = [('English', 88), ('Science', 90), ('Maths', 97), ('Social sciences', 82)]\n",
        "a.sort(key = lambda x: x[1]) #x[1] 1 belongs to the index 1 of each tuple. example 82 will come first\n",
        "print(a)\n"
      ],
      "metadata": {
        "id": "1NfwIsNvy7Xt",
        "colab": {
          "base_uri": "https://localhost:8080/"
        },
        "outputId": "b0129edc-2993-49a4-eae7-52fb8bf103b0"
      },
      "execution_count": 3,
      "outputs": [
        {
          "output_type": "stream",
          "name": "stdout",
          "text": [
            "[('Social sciences', 82), ('English', 88), ('Science', 90), ('Maths', 97)]\n"
          ]
        }
      ]
    },
    {
      "cell_type": "code",
      "source": [
        "# Create a list of tuples and use a lambda function to sort the list by the product of the tuple elements.\n",
        "# List of tuples\n",
        "my_list = [(1, 5), (2, 3), (4, 1), (3, 7)]\n",
        "\n",
        "# Sorting the list of tuples by the product of the elements using a lambda function\n",
        "sorted_list = sorted(my_list, key=lambda x: x[0] * x[1])\n",
        "\n",
        "# Output the sorted list\n",
        "print(sorted_list) #thi shas been sorted after the product. Such as (1,5)-> 1*5=5\n",
        "\n"
      ],
      "metadata": {
        "colab": {
          "base_uri": "https://localhost:8080/"
        },
        "id": "vbU1qMG4hTj2",
        "outputId": "487e39e3-5af1-4fb0-f0ed-2bc9cab1031f"
      },
      "execution_count": 5,
      "outputs": [
        {
          "output_type": "stream",
          "name": "stdout",
          "text": [
            "[(4, 1), (1, 5), (2, 3), (3, 7)]\n"
          ]
        }
      ]
    },
    {
      "cell_type": "code",
      "source": [
        "# Implement a lambda function that filters out strings from a list that start with a given letter?\n",
        "give_letter = 'a'\n",
        "my_list = ['apple', 'banana', 'cherry', 'date', 'elderberry']\n",
        "filtered_list = list(filter(lambda x: x.startswith(give_letter), my_list))\n",
        "print(filtered_list)\n"
      ],
      "metadata": {
        "colab": {
          "base_uri": "https://localhost:8080/"
        },
        "id": "7TE3y0ojicgl",
        "outputId": "83f1194c-ef5f-4a70-abce-3931759aacfb"
      },
      "execution_count": 6,
      "outputs": [
        {
          "output_type": "stream",
          "name": "stdout",
          "text": [
            "['apple']\n"
          ]
        }
      ]
    },
    {
      "cell_type": "code",
      "source": [
        "# Write a script that uses a lambda function to calculate the cube of numbers in a list.\n",
        "my_list = [1, 2, 3, 4, 5]\n",
        "cube_list = list(map(lambda x: x**3, my_list))\n",
        "print(cube_list)"
      ],
      "metadata": {
        "colab": {
          "base_uri": "https://localhost:8080/"
        },
        "id": "pPbQvqJyixgn",
        "outputId": "9d7b8a87-f7ee-4eb0-9ae8-98f546f44968"
      },
      "execution_count": 7,
      "outputs": [
        {
          "output_type": "stream",
          "name": "stdout",
          "text": [
            "[1, 8, 27, 64, 125]\n"
          ]
        }
      ]
    }
  ]
}