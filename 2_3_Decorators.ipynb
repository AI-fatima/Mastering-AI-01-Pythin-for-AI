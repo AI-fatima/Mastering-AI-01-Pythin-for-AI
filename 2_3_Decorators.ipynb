{
  "nbformat": 4,
  "nbformat_minor": 0,
  "metadata": {
    "colab": {
      "provenance": [],
      "authorship_tag": "ABX9TyPPIiGCmjkAqvvE673qfMzg"
    },
    "kernelspec": {
      "name": "python3",
      "display_name": "Python 3"
    },
    "language_info": {
      "name": "python"
    }
  },
  "cells": [
    {
      "cell_type": "code",
      "execution_count": 5,
      "metadata": {
        "colab": {
          "base_uri": "https://localhost:8080/"
        },
        "id": "OwBtNa1j5u-X",
        "outputId": "ae4f9ac3-381c-43ea-8362-4cb5b52a927a"
      },
      "outputs": [
        {
          "output_type": "stream",
          "name": "stdout",
          "text": [
            "Function is running\n",
            "Hello World\n"
          ]
        }
      ],
      "source": [
        "# Write a simple decorator that prints \"Function is running\" before a function executes.\n",
        "\n",
        "def simple_decorator(func):\n",
        "  def wrapper():\n",
        "    print(\"Function is running\")\n",
        "    func()\n",
        "  return wrapper\n",
        "\n",
        "@simple_decorator\n",
        "def hello_world():\n",
        "  print(\"Hello World\")\n",
        "\n",
        "hello_world()\n",
        "\n",
        "\n",
        ""
      ]
    },
    {
      "cell_type": "code",
      "source": [
        "# Create a decorator that checks if the input to a function is a non-negative integer before allowing the function to execute\n",
        "def check_if_negative(func):\n",
        "  def wrapper(num):\n",
        "    if num < 0:\n",
        "      print(\"Number is negative\")\n",
        "    else:\n",
        "      func(num)\n",
        "  return wrapper\n",
        "\n",
        "@check_if_negative\n",
        "def add_two(num):\n",
        "  print(num + 2)\n",
        "\n",
        "add_two(-1)"
      ],
      "metadata": {
        "colab": {
          "base_uri": "https://localhost:8080/"
        },
        "id": "O-5m4TAd6orR",
        "outputId": "55afbe33-5c41-4f73-d924-0b9371af3e90"
      },
      "execution_count": 7,
      "outputs": [
        {
          "output_type": "stream",
          "name": "stdout",
          "text": [
            "3\n"
          ]
        }
      ]
    },
    {
      "cell_type": "code",
      "source": [
        "# Write a memoization decorator that caches the results of an expensive function.\n",
        "def memoize(func):\n",
        "    cache = {}  # Dictionary to store cached results\n",
        "\n",
        "    def wrapper(*args):\n",
        "        if args in cache:  # If the result is already cached, return it\n",
        "            print(f\"Fetching from cache for args: {args}\")\n",
        "            return cache[args]\n",
        "        else:\n",
        "            result = func(*args)  # Call the original function\n",
        "            cache[args] = result  # Store the result in the cache\n",
        "            print(f\"Caching result for args: {args}\")\n",
        "            return result\n",
        "    return wrapper\n",
        "\n",
        "@memoize\n",
        "def fibonacci(n):\n",
        "    if n <= 1:\n",
        "        return n\n",
        "    else:\n",
        "        return fibonacci(n - 1) + fibonacci(n - 2)\n",
        "\n",
        "# Testing the memoized Fibonacci function\n",
        "print(fibonacci(10))  # This will calculate and cache results along the way\n",
        "print(fibonacci(10))  # This will fetch the result from the cache\n",
        "\n",
        "\n"
      ],
      "metadata": {
        "colab": {
          "base_uri": "https://localhost:8080/"
        },
        "id": "SmiHuEOO7QU3",
        "outputId": "04f9c095-394b-4435-edeb-ca31667eb5f9"
      },
      "execution_count": 9,
      "outputs": [
        {
          "output_type": "stream",
          "name": "stdout",
          "text": [
            "Caching result for args: (1,)\n",
            "Caching result for args: (0,)\n",
            "Caching result for args: (2,)\n",
            "Fetching from cache for args: (1,)\n",
            "Caching result for args: (3,)\n",
            "Fetching from cache for args: (2,)\n",
            "Caching result for args: (4,)\n",
            "Fetching from cache for args: (3,)\n",
            "Caching result for args: (5,)\n",
            "Fetching from cache for args: (4,)\n",
            "Caching result for args: (6,)\n",
            "Fetching from cache for args: (5,)\n",
            "Caching result for args: (7,)\n",
            "Fetching from cache for args: (6,)\n",
            "Caching result for args: (8,)\n",
            "Fetching from cache for args: (7,)\n",
            "Caching result for args: (9,)\n",
            "Fetching from cache for args: (8,)\n",
            "Caching result for args: (10,)\n",
            "55\n",
            "Fetching from cache for args: (10,)\n",
            "55\n"
          ]
        }
      ]
    },
    {
      "cell_type": "code",
      "source": [
        "# Develop a decorator that logs the execution time of a function.\n",
        "import time\n",
        "\n",
        "def execution_time_logger(func):\n",
        "    def wrapper(*args, **kwargs):\n",
        "        start_time = time.time()  # Record the start time\n",
        "        result = func(*args, **kwargs)  # Call the original function\n",
        "        end_time = time.time()  # Record the end time\n",
        "        execution_time = end_time - start_time  # Calculate the execution time\n",
        "        print(f\"Function '{func.__name__}' executed in: {execution_time:.4f} seconds\")\n",
        "        return result\n",
        "    return wrapper\n",
        "\n",
        "\n",
        "@execution_time_logger\n",
        "def some_expensive_function():\n",
        "    print(\"Running some expensive operation...\")\n",
        "    time.sleep(2)  # Simulate a delay of 2 seconds\n",
        "\n",
        "# Testing the decorated function\n",
        "some_expensive_function()\n",
        "\n"
      ],
      "metadata": {
        "colab": {
          "base_uri": "https://localhost:8080/"
        },
        "id": "lg2UV1GQ_RMG",
        "outputId": "ed69c78c-c487-4a69-97a5-098e343545f2"
      },
      "execution_count": 10,
      "outputs": [
        {
          "output_type": "stream",
          "name": "stdout",
          "text": [
            "Running some expensive operation...\n",
            "Function 'some_expensive_function' executed in: 2.0038 seconds\n"
          ]
        }
      ]
    },
    {
      "cell_type": "code",
      "source": [
        "# Implement a decorator that modifies a function to only execute a certain number of times before stopping.\n",
        "def limit_execution(limit):\n",
        "    def decorator(func):\n",
        "        counter = [0]  # Use a list to store the counter, so it's mutable\n",
        "\n",
        "        def wrapper(*args, **kwargs):\n",
        "            if counter[0] < limit:\n",
        "                counter[0] += 1\n",
        "                print(f\"Executing {func.__name__}, attempt {counter[0]} of {limit}\")\n",
        "                return func(*args, **kwargs)\n",
        "            else:\n",
        "                print(f\"{func.__name__} has reached the limit of {limit} executions. It will not run again.\")\n",
        "        return wrapper\n",
        "    return decorator\n",
        "\n",
        "@limit_execution(3)  # The function will only be allowed to run 3 times\n",
        "def say_hello():\n",
        "    print(\"Hello, world!\")\n",
        "\n",
        "# Testing the limited execution decorator\n",
        "say_hello()  # 1st execution\n",
        "say_hello()  # 2nd execution\n",
        "say_hello()  # 3rd execution\n",
        "say_hello()  # This call will not run the function\n",
        "\n"
      ],
      "metadata": {
        "colab": {
          "base_uri": "https://localhost:8080/"
        },
        "id": "UJhyQhNi_rWc",
        "outputId": "596ef962-704d-47f2-fc49-85389e9582c3"
      },
      "execution_count": 12,
      "outputs": [
        {
          "output_type": "stream",
          "name": "stdout",
          "text": [
            "Executing say_hello, attempt 1 of 3\n",
            "Hello, world!\n",
            "Executing say_hello, attempt 2 of 3\n",
            "Hello, world!\n",
            "Executing say_hello, attempt 3 of 3\n",
            "Hello, world!\n",
            "say_hello has reached the limit of 3 executions. It will not run again.\n"
          ]
        }
      ]
    }
  ]
}