{
  "nbformat": 4,
  "nbformat_minor": 0,
  "metadata": {
    "colab": {
      "provenance": [],
      "authorship_tag": "ABX9TyMGD7HbSlatRHmcsbbp3tmf",
      "include_colab_link": true
    },
    "kernelspec": {
      "name": "python3",
      "display_name": "Python 3"
    },
    "language_info": {
      "name": "python"
    }
  },
  "cells": [
    {
      "cell_type": "markdown",
      "metadata": {
        "id": "view-in-github",
        "colab_type": "text"
      },
      "source": [
        "<a href=\"https://colab.research.google.com/github/AI-fatima/Mastering-AI-01-Pythin-for-AI/blob/main/1_4_ControlFlow(Conditionals).ipynb\" target=\"_parent\"><img src=\"https://colab.research.google.com/assets/colab-badge.svg\" alt=\"Open In Colab\"/></a>"
      ]
    },
    {
      "cell_type": "code",
      "execution_count": null,
      "metadata": {
        "colab": {
          "base_uri": "https://localhost:8080/"
        },
        "id": "nI6dPZqgSCdS",
        "outputId": "17805c53-7e70-473d-82c4-337546ed48de"
      },
      "outputs": [
        {
          "output_type": "stream",
          "name": "stdout",
          "text": [
            "Enter a number: 3\n",
            "The number is positive\n"
          ]
        }
      ],
      "source": [
        "# Write a program that takes a number as input and checks if it is positive, negative, or zero. Print an appropriate message.\n",
        "\n",
        "number= float(input(\"Enter a number: \"))\n",
        "if number > 0:\n",
        "  print(\"The number is positive\")\n",
        "elif number < 0:\n",
        "  print(\"The number is negative\")\n",
        "else:\n",
        "  print(\"The number is zero\")"
      ]
    },
    {
      "cell_type": "code",
      "source": [
        "# Create a script that assigns grades (A, B, C, D, F) based on a numeric score provided by the user. Use nested conditionals to handle the different ranges of scores.\n",
        "def get_grade(score):\n",
        "  if score>=90:\n",
        "    return \"A\"\n",
        "  elif score>=80:\n",
        "    return \"B\"\n",
        "  elif score>=70:\n",
        "    return \"C\"\n",
        "  elif score>=60:\n",
        "    return \"D\"\n",
        "  else:\n",
        "    return \"Failed\"\n",
        "\n",
        "score= float(input(\"Enter your score: \"))\n",
        "if score<0 or score>100:\n",
        "  print(\"Invalid score. please enter valid number to find your score.\")\n",
        "else:\n",
        "  grade= get_grade(score)\n",
        "  print(grade)"
      ],
      "metadata": {
        "colab": {
          "base_uri": "https://localhost:8080/"
        },
        "id": "GyEzzAnc_QKr",
        "outputId": "ea581562-a972-498c-88d4-09d5c9638aa1"
      },
      "execution_count": null,
      "outputs": [
        {
          "output_type": "stream",
          "name": "stdout",
          "text": [
            "Enter your score: 1000\n",
            "Invalid score. please enter valid number to find your score.\n"
          ]
        }
      ]
    },
    {
      "cell_type": "code",
      "source": [
        "# Develop a program that takes the current time (in 24-hour format) as input and prints whether it is morning, afternoon, evening, or night.\n",
        "def determine_time_of_the_day(hour):\n",
        "  if 5 <= hour < 12:\n",
        "    return \"Morning\"\n",
        "  elif 12 <= hour < 17:\n",
        "    return \"Afternoon\"\n",
        "  elif 17 <= hour < 20:\n",
        "    return \"Evening\"\n",
        "\n",
        "time_input = input(\"Enter the current hour (in 24-hour format): \")\n",
        "try:\n",
        "  hour = int(time_input.split(\":\")[0])\n",
        "  #to ensure that teh hour is within the range\n",
        "  if 0 <= hour < 24:\n",
        "    time_of_the_day = determine_time_of_the_day(hour)\n",
        "    print(f\"The current time is {time_of_the_day}.\")\n",
        "  else:\n",
        "   print(\"Please enter the valid time\")\n",
        "except ValueError:\n",
        "  print(\"Invalid input. Please enter the time in the correct format.\")\n",
        "\n"
      ],
      "metadata": {
        "colab": {
          "base_uri": "https://localhost:8080/"
        },
        "id": "o4xK_-VHBKzt",
        "outputId": "443276f6-d5dc-462a-fe3e-307cf794b9f4"
      },
      "execution_count": null,
      "outputs": [
        {
          "output_type": "stream",
          "name": "stdout",
          "text": [
            "Enter the current hour (in 24-hour format): 14:28\n",
            "The current time is Afternoon.\n"
          ]
        }
      ]
    },
    {
      "cell_type": "code",
      "source": [
        "# Write a program that uses a ternary operator to determine and print whether a number is even or odd.\n",
        "\n",
        "number = int(input(\"enter any number\"))\n",
        "result = \"even\" if number % 2==0 else \"odd\"\n",
        "print(result)"
      ],
      "metadata": {
        "colab": {
          "base_uri": "https://localhost:8080/"
        },
        "id": "-aZhRuSLFq6_",
        "outputId": "6cd92afa-62fa-4012-fcf2-048048ca054a"
      },
      "execution_count": null,
      "outputs": [
        {
          "output_type": "stream",
          "name": "stdout",
          "text": [
            "enter any number33\n",
            "odd\n"
          ]
        }
      ]
    },
    {
      "cell_type": "code",
      "source": [
        "# Create a program that checks if a given year is a leap year or not using a series of conditionals.\n",
        "# Function to check if a year is a leap year\n",
        "def is_leap_year(year):\n",
        "    if year % 4 == 0:\n",
        "        if year % 100 == 0:\n",
        "            if year % 400 == 0:\n",
        "                return True  # Divisible by 400, so it's a leap year\n",
        "            else:\n",
        "                return False  # Divisible by 100 but not by 400, so it's not a leap year\n",
        "        else:\n",
        "            return True  # Divisible by 4 but not by 100, so it's a leap year\n",
        "    else:\n",
        "        return False  # Not divisible by 4, so it's not a leap year\n",
        "\n",
        "# Get the year from the user\n",
        "year = int(input(\"Enter a year to check if it is a leap year: \"))\n",
        "\n",
        "# Check and print whether the year is a leap year or not\n",
        "if is_leap_year(year):\n",
        "    print(f\"{year} is a leap year.\")\n",
        "else:\n",
        "    print(f\"{year} is not a leap year.\")\n",
        "\n"
      ],
      "metadata": {
        "id": "PCCLU5FqGAYW",
        "colab": {
          "base_uri": "https://localhost:8080/"
        },
        "outputId": "b576326d-1654-403d-f56f-d80dda2a1998"
      },
      "execution_count": 1,
      "outputs": [
        {
          "output_type": "stream",
          "name": "stdout",
          "text": [
            "Enter a year to check if it is a leap year: 2024\n",
            "2024 is a leap year.\n"
          ]
        }
      ]
    }
  ]
}