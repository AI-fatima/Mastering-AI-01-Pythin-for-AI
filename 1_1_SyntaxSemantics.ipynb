{
  "nbformat": 4,
  "nbformat_minor": 0,
  "metadata": {
    "colab": {
      "provenance": [],
      "authorship_tag": "ABX9TyNxvC0qJUbfIDfX82oxfQZ6"
    },
    "kernelspec": {
      "name": "python3",
      "display_name": "Python 3"
    },
    "language_info": {
      "name": "python"
    }
  },
  "cells": [
    {
      "cell_type": "markdown",
      "source": [
        "Ob"
      ],
      "metadata": {
        "id": "VhipE6gb1SLl"
      }
    },
    {
      "cell_type": "code",
      "execution_count": null,
      "metadata": {
        "colab": {
          "base_uri": "https://localhost:8080/"
        },
        "id": "mtMYXyZn0_HW",
        "outputId": "e0f8c129-3196-4857-f594-22ac28acf44d"
      },
      "outputs": [
        {
          "output_type": "stream",
          "name": "stdout",
          "text": [
            "Hello\n"
          ]
        }
      ],
      "source": [
        "# Write a Python script that prints \"Hello, World!\" and run it in both a script file and the interactive interpreter.\n",
        "print('Hello')\n"
      ]
    },
    {
      "cell_type": "code",
      "source": [
        "# Experiment with indentation errors by creating a function and deliberately misaligning some of the code inside it.\n",
        "\n",
        "def cal(num1, num2):\n",
        "      ans=num1+num2\n",
        "  return ans\n",
        "num1=int(input('Enter first number'))\n",
        "num2=int(input('Enter second number'))\n",
        "cal(num1,num2)\n"
      ],
      "metadata": {
        "colab": {
          "base_uri": "https://localhost:8080/",
          "height": 106
        },
        "id": "9wYEQeB5gvUC",
        "outputId": "1efb057c-8807-4f03-cb56-15d6b77169ee"
      },
      "execution_count": null,
      "outputs": [
        {
          "output_type": "error",
          "ename": "IndentationError",
          "evalue": "unindent does not match any outer indentation level (<tokenize>, line 5)",
          "traceback": [
            "\u001b[0;36m  File \u001b[0;32m\"<tokenize>\"\u001b[0;36m, line \u001b[0;32m5\u001b[0m\n\u001b[0;31m    return ans\u001b[0m\n\u001b[0m    ^\u001b[0m\n\u001b[0;31mIndentationError\u001b[0m\u001b[0;31m:\u001b[0m unindent does not match any outer indentation level\n"
          ]
        }
      ]
    },
    {
      "cell_type": "code",
      "source": [
        "#Fixes\n",
        "def cal(num1, num2):\n",
        "  ans=num1+num2\n",
        "  return ans\n",
        "num1=int(input('Enter first number'))\n",
        "num2=int(input('Enter second number'))\n",
        "cal(num1,num2)"
      ],
      "metadata": {
        "id": "OStP0yqIhg0-"
      },
      "execution_count": null,
      "outputs": []
    },
    {
      "cell_type": "code",
      "source": [
        "#Add single-line and multi-line comments to a Python script and observe how they are ignored during execution.\n",
        "\n",
        "\n",
        "# this is the test for\n",
        "# single and multi line comments\n",
        "# to add in python\n",
        "\n"
      ],
      "metadata": {
        "id": "Nkq7YQRThs4S"
      },
      "execution_count": null,
      "outputs": []
    },
    {
      "cell_type": "code",
      "source": [
        "# Write a script that includes both a print statement and a comment. Run it in the interactive mode and in a script file.\n",
        "\n",
        "#this is my first program running in python\n",
        "print('hello to the future')\n",
        "\n"
      ],
      "metadata": {
        "id": "z4y-m5YHh5s6"
      },
      "execution_count": null,
      "outputs": []
    }
  ]
}