{
  "nbformat": 4,
  "nbformat_minor": 0,
  "metadata": {
    "colab": {
      "provenance": [],
      "authorship_tag": "ABX9TyPn354KF9WPmeWdreOsMbo2"
    },
    "kernelspec": {
      "name": "python3",
      "display_name": "Python 3"
    },
    "language_info": {
      "name": "python"
    }
  },
  "cells": [
    {
      "cell_type": "code",
      "execution_count": 1,
      "metadata": {
        "colab": {
          "base_uri": "https://localhost:8080/"
        },
        "id": "LQQzmA9brAIc",
        "outputId": "4c6efb9d-44ca-40e8-d94d-2225780acc9e"
      },
      "outputs": [
        {
          "output_type": "stream",
          "name": "stdout",
          "text": [
            "1\n",
            "1\n",
            "2\n",
            "3\n",
            "5\n",
            "8\n",
            "13\n",
            "21\n",
            "34\n",
            "55\n"
          ]
        }
      ],
      "source": [
        "# Write a program to print the first 10 Fibonacci numbers using a for loop.\n",
        "a=1\n",
        "b=0\n",
        "for i in range(10):\n",
        "    c=a+b\n",
        "    a=b\n",
        "    b=c\n",
        "    print(c)\n"
      ]
    },
    {
      "cell_type": "code",
      "source": [
        "# Create a multiplication table (from 1 to 10) using nested for loops.\n",
        "table_number = int(input(\"enter table number: \"))\n",
        "for i in range(1,11):\n",
        "  print(f\"{table_number} * {i} = {table_number * i}\")"
      ],
      "metadata": {
        "colab": {
          "base_uri": "https://localhost:8080/"
        },
        "id": "H8nB9CwduttT",
        "outputId": "f595da52-e511-458e-8502-1de8aa953709"
      },
      "execution_count": 5,
      "outputs": [
        {
          "output_type": "stream",
          "name": "stdout",
          "text": [
            "enter table number: 2\n",
            "2 * 1 = 2\n",
            "2 * 2 = 4\n",
            "2 * 3 = 6\n",
            "2 * 4 = 8\n",
            "2 * 5 = 10\n",
            "2 * 6 = 12\n",
            "2 * 7 = 14\n",
            "2 * 8 = 16\n",
            "2 * 9 = 18\n",
            "2 * 10 = 20\n"
          ]
        }
      ]
    },
    {
      "cell_type": "code",
      "source": [
        "# Develop a program that uses a while loop to keep asking the user for input until they enter the word \"exit\".\n",
        "user_input = input(\"Enter any value: \")\n",
        "while user_input != \"exit\":\n",
        "  user_input = input(\"Enter any value: \")\n"
      ],
      "metadata": {
        "colab": {
          "base_uri": "https://localhost:8080/"
        },
        "id": "1q5qwgz-vghI",
        "outputId": "435446bf-3553-4c90-dc2c-235438912c65"
      },
      "execution_count": 6,
      "outputs": [
        {
          "name": "stdout",
          "output_type": "stream",
          "text": [
            "Enter any value: 10\n",
            "Enter any value: as\n",
            "Enter any value: as\n",
            "Enter any value: exit\n"
          ]
        }
      ]
    },
    {
      "cell_type": "code",
      "source": [
        "# Write a script that iterates over a list of numbers and prints only the even numbers using the continue statement.\n",
        "\n",
        "for i in range(1,11):\n",
        "  if i % 2 != 0:\n",
        "    continue\n",
        "  print(i)"
      ],
      "metadata": {
        "colab": {
          "base_uri": "https://localhost:8080/"
        },
        "id": "Bf5tQ6JPwipC",
        "outputId": "15d8fa48-efc7-49ae-d231-1cebb86159cf"
      },
      "execution_count": 7,
      "outputs": [
        {
          "output_type": "stream",
          "name": "stdout",
          "text": [
            "2\n",
            "4\n",
            "6\n",
            "8\n",
            "10\n"
          ]
        }
      ]
    },
    {
      "cell_type": "code",
      "source": [
        "# Implement a program that uses a for loop to iterate through a string and print each character on a new line. Use the break statement to stop the loop if a specific character is encountered.\n",
        "\n",
        "for i in range(1,11):\n",
        "  if i == 5:\n",
        "    break\n",
        "  print(i)"
      ],
      "metadata": {
        "id": "v8GpKoN8w31D"
      },
      "execution_count": null,
      "outputs": []
    },
    {
      "cell_type": "code",
      "source": [
        "user_input = input(\"Enter any character: \")\n",
        "stopping_char = 't'\n",
        "for char in user_input:\n",
        "  if char == stopping_char:\n",
        "    break\n",
        "  print(char)"
      ],
      "metadata": {
        "colab": {
          "base_uri": "https://localhost:8080/"
        },
        "id": "8RDWNqI3y3NC",
        "outputId": "5d71937b-0949-48ae-b21a-904a930c3624"
      },
      "execution_count": 10,
      "outputs": [
        {
          "output_type": "stream",
          "name": "stdout",
          "text": [
            "Enter any character: dasdsttttttttttttttttttttttttttt\n",
            "d\n",
            "a\n",
            "s\n",
            "d\n",
            "s\n"
          ]
        }
      ]
    },
    {
      "cell_type": "code",
      "source": [],
      "metadata": {
        "id": "nIu1pG35zYVD"
      },
      "execution_count": null,
      "outputs": []
    },
    {
      "cell_type": "code",
      "source": [],
      "metadata": {
        "id": "IHvElV7gzeab"
      },
      "execution_count": null,
      "outputs": []
    }
  ]
}