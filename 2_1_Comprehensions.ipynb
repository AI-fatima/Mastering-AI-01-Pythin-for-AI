{
  "nbformat": 4,
  "nbformat_minor": 0,
  "metadata": {
    "colab": {
      "provenance": [],
      "authorship_tag": "ABX9TyMWoyaIqGzD44q4G/XOnNO6"
    },
    "kernelspec": {
      "name": "python3",
      "display_name": "Python 3"
    },
    "language_info": {
      "name": "python"
    }
  },
  "cells": [
    {
      "cell_type": "code",
      "execution_count": 3,
      "metadata": {
        "colab": {
          "base_uri": "https://localhost:8080/"
        },
        "id": "pGCi2aFBGIHN",
        "outputId": "630aa03c-4946-42c4-b27d-930169c01f49"
      },
      "outputs": [
        {
          "output_type": "stream",
          "name": "stdout",
          "text": [
            "['HELLO', 'TO', 'THE', 'FUTURE']\n"
          ]
        }
      ],
      "source": [
        "#practice\n",
        "words = ['hello','to','the','future']\n",
        "words_uppercase = [word.upper() for word in words]\n",
        "print(words_uppercase)"
      ]
    },
    {
      "cell_type": "code",
      "source": [
        "numbers = [1,2,3,4,5,6]\n",
        "even_numbers = [number for number in numbers if number%2==0]\n",
        "print(even_numbers)"
      ],
      "metadata": {
        "colab": {
          "base_uri": "https://localhost:8080/"
        },
        "id": "RM8kGpT0G9V0",
        "outputId": "6ed80394-b916-4b92-9468-f1523274b935"
      },
      "execution_count": 6,
      "outputs": [
        {
          "output_type": "stream",
          "name": "stdout",
          "text": [
            "[2, 4, 6]\n"
          ]
        }
      ]
    },
    {
      "cell_type": "code",
      "source": [
        "# Use a list comprehension to create a list of squares of the first 10 positive integers.\n",
        "numbers = [1,2,3,4,5,6,7,8,9,10]\n",
        "squares = [square_number**2 for square_number in numbers]\n",
        "print(squares)"
      ],
      "metadata": {
        "colab": {
          "base_uri": "https://localhost:8080/"
        },
        "id": "NfNEhe9INujS",
        "outputId": "2a662e49-aa21-4ae4-fb4d-39a88e80b5fc"
      },
      "execution_count": 7,
      "outputs": [
        {
          "output_type": "stream",
          "name": "stdout",
          "text": [
            "[1, 4, 9, 16, 25, 36, 49, 64, 81, 100]\n"
          ]
        }
      ]
    },
    {
      "cell_type": "code",
      "source": [
        "# Create a dictionary comprehension that maps each letter in a string to its corresponding ASCII value.\n",
        "dic_example={'name':'Fatima',\n",
        "             'Surname' : 'Fatima' }\n",
        "\n",
        "print(dic_example['name'])\n",
        "squares= {number:number**2 for number in range(1,11)}\n",
        "print(squares)"
      ],
      "metadata": {
        "colab": {
          "base_uri": "https://localhost:8080/"
        },
        "id": "CUFuea9LoCmt",
        "outputId": "c93d1563-eb0b-4b90-c74c-ab8319d7ec35"
      },
      "execution_count": 11,
      "outputs": [
        {
          "output_type": "stream",
          "name": "stdout",
          "text": [
            "Fatima\n",
            "{1: 1, 2: 4, 3: 9, 4: 16, 5: 25, 6: 36, 7: 49, 8: 64, 9: 81, 10: 100}\n"
          ]
        }
      ]
    },
    {
      "cell_type": "code",
      "source": [
        "user_input = input(\"Enter any value: \")\n",
        "char_ascii = {char:ord(char)for char in user_input}\n",
        "print(char_ascii)\n",
        "\n"
      ],
      "metadata": {
        "colab": {
          "base_uri": "https://localhost:8080/"
        },
        "id": "I-JIHiQIpqBl",
        "outputId": "33f6a360-0f80-446a-be2e-6fd5136f6649"
      },
      "execution_count": 16,
      "outputs": [
        {
          "output_type": "stream",
          "name": "stdout",
          "text": [
            "Enter any value: fatima\n",
            "{'f': 102, 'a': 97, 't': 116, 'i': 105, 'm': 109}\n"
          ]
        }
      ]
    },
    {
      "cell_type": "code",
      "source": [
        "# Write a set comprehension to create a set of unique vowels found in a user-provided string.\n",
        "\n",
        "\n",
        "\n",
        "\n",
        "vowels = ['a','e','i','o','u']\n",
        "user_input = input(\"Enter any value: \")\n",
        "vowel_found_in_string = {char for char in user_input if char in vowels}\n",
        "print(vowel_found_in_string)\n"
      ],
      "metadata": {
        "colab": {
          "base_uri": "https://localhost:8080/"
        },
        "id": "NSGa6lfFq4po",
        "outputId": "49cd045f-d13d-44e4-cf72-5068c46cc4bd"
      },
      "execution_count": 18,
      "outputs": [
        {
          "output_type": "stream",
          "name": "stdout",
          "text": [
            "Enter any value: babu\n",
            "{'a', 'u'}\n"
          ]
        }
      ]
    },
    {
      "cell_type": "code",
      "source": [
        "# Develop a list comprehension that generates a list of tuples containing a number and its square for numbers between 1 and 10.\n",
        "tuple_numbers = (1,2,3,4,5,6,7,8,9,10)\n",
        "squares = [(number,number**2) for number in numbers]\n",
        "print(squares)"
      ],
      "metadata": {
        "colab": {
          "base_uri": "https://localhost:8080/"
        },
        "id": "JNU48rr0r3qV",
        "outputId": "2a0d9ca5-d123-4afd-f163-47a894670a35"
      },
      "execution_count": 19,
      "outputs": [
        {
          "output_type": "stream",
          "name": "stdout",
          "text": [
            "[(1, 1), (2, 4), (3, 9), (4, 16), (5, 25), (6, 36), (7, 49), (8, 64), (9, 81), (10, 100)]\n"
          ]
        }
      ]
    }
  ]
}