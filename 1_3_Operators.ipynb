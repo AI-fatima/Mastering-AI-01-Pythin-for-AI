{
  "nbformat": 4,
  "nbformat_minor": 0,
  "metadata": {
    "colab": {
      "provenance": [],
      "authorship_tag": "ABX9TyOlXJOX1O7jgrPy7yXU23up"
    },
    "kernelspec": {
      "name": "python3",
      "display_name": "Python 3"
    },
    "language_info": {
      "name": "python"
    }
  },
  "cells": [
    {
      "cell_type": "code",
      "execution_count": 1,
      "metadata": {
        "colab": {
          "base_uri": "https://localhost:8080/"
        },
        "id": "QZXsMtoLI6kA",
        "outputId": "f41ed6ed-55b0-445c-b6a7-e6a867b034ad"
      },
      "outputs": [
        {
          "output_type": "stream",
          "name": "stdout",
          "text": [
            "Enter first number: 5\n",
            "Enter second number: 10\n",
            "\n",
            "The sum of 5.0 and 10.0 is 15.0\n",
            "The difference of 5.0 and 10.0 is -5.0\n",
            "The product of 5.0 and 10.0 is 50.0\n",
            "The quotient of 5.0 and 10.0 is 0.5\n",
            "The remainder of 5.0 and 10.0 is 5.0\n",
            "5.0 to the power of 10.0 is 9765625.0\n",
            "The floor division of 5.0 and 10.0 is 0.0\n"
          ]
        }
      ],
      "source": [
        "# Write a program that takes two numbers from the user and performs all the arithmetic operations (+, -, *, /, %, **, //) on them.\n",
        "numer1 = float(input(\"Enter first number: \"))\n",
        "numer2 = float(input(\"Enter second number: \"))\n",
        "print(f\"\\nThe sum of {numer1} and {numer2} is {numer1 + numer2}\")\n",
        "print(f\"The difference of {numer1} and {numer2} is {numer1 - numer2}\")\n",
        "print(f\"The product of {numer1} and {numer2} is {numer1 * numer2}\")\n",
        "print(f\"The quotient of {numer1} and {numer2} is {numer1 / numer2}\")\n",
        "print(f\"The remainder of {numer1} and {numer2} is {numer1 % numer2}\")\n",
        "print(f\"{numer1} to the power of {numer2} is {numer1 ** numer2}\")\n",
        "print(f\"The floor division of {numer1} and {numer2} is {numer1 // numer2}\")\n",
        "\n"
      ]
    },
    {
      "cell_type": "code",
      "source": [
        "# Create a script that compares two numbers and prints whether the first is greater than, less than, or equal to the second.\n",
        "\n",
        "number1 = float(input(\"Enter first number: \"))\n",
        "number2 = float(input(\"Enter second number: \"))\n",
        "if number1 > number2:\n",
        "    print(f\"{number1} is greater than {number2}\")\n",
        "elif number1 < number2:\n",
        "    print(f\"{number1} is less than {number2}\")\n",
        "\n",
        "else:\n",
        "    print(f\"{number1} is equal to {number2}\")"
      ],
      "metadata": {
        "colab": {
          "base_uri": "https://localhost:8080/"
        },
        "id": "8Um3dBUqJ2GZ",
        "outputId": "79a805db-37e3-447a-b9d4-c8e6e1463215"
      },
      "execution_count": 2,
      "outputs": [
        {
          "output_type": "stream",
          "name": "stdout",
          "text": [
            "Enter first number: 20\n",
            "Enter second number: 5\n",
            "20.0 is greater than 5.0\n"
          ]
        }
      ]
    },
    {
      "cell_type": "code",
      "source": [
        "# Write a program that demonstrates the use of all logical operators (and, or, not) by evaluating expressions and printing the results.\n",
        "\n",
        "a = True\n",
        "b = False\n",
        "c = True\n",
        "d = False\n",
        "\n",
        "# Demonstrate the 'and' operator\n",
        "print(\"Demonstrating 'and' operator below:\")\n",
        "print(f\"a and b: {a and b}\")  # False because b is False/like logical gates\n",
        "print(f\"a and c: {a and c}\")  # True because both a and c are True\n",
        "\n",
        "# Demonstrate the 'or' operator\n",
        "print(\"\\nDemonstrating 'or' operator below:\")\n",
        "print(f\"b or d: {b or d}\")    # False because both b and d are False\n",
        "print(f\"a or d: {a or d}\")    # True because a is True\n",
        "\n",
        "# Demonstrate the 'not' operator\n",
        "print(\"\\nDemonstrating 'not' operator:\")\n",
        "print(f\"not a: {not a}\")      # False because a is True / not is a compliment here as we had in logical gates\n",
        "print(f\"not b: {not b}\")      # True because b is False\n",
        "\n",
        "# Combine all operators in a complex expression\n",
        "print(\"\\nDemonstrating a complex expression with all operators:\")\n",
        "result = (a or b) and not (c and d) #(true) and not(false) -> (true) and (true) -> true will be the output\n",
        "print(f\"(a or b) and not (c and d): {result}\")  # True because (a or b) is True and (c and d) is False\n"
      ],
      "metadata": {
        "colab": {
          "base_uri": "https://localhost:8080/"
        },
        "id": "FBkvCP__KNcN",
        "outputId": "48c33d82-879a-4f86-bb19-9e770f2703d7"
      },
      "execution_count": 3,
      "outputs": [
        {
          "output_type": "stream",
          "name": "stdout",
          "text": [
            "Demonstrating 'and' operator below:\n",
            "a and b: False\n",
            "a and c: True\n",
            "\n",
            "Demonstrating 'or' operator below:\n",
            "b or d: False\n",
            "a or d: True\n",
            "\n",
            "Demonstrating 'not' operator:\n",
            "not a: False\n",
            "not b: True\n",
            "\n",
            "Demonstrating a complex expression with all operators:\n",
            "(a or b) and not (c and d): True\n"
          ]
        }
      ]
    },
    {
      "cell_type": "code",
      "source": [
        "# Develop a program that uses assignment operators to increment, decrement, multiply, and divide a number provided by the user\n",
        "number=float(input(\"Enter a number: \"))\n",
        "\n",
        "print(f\"The number is {number}\")\n",
        "number+=10\n",
        "print(f\"The number is incremented by 10: {number}\")\n",
        "number-=5\n",
        "print(f\"The number is decremented by 5: {number}\")\n",
        "number*=2\n",
        "print(f\"The number is multiplied by 2: {number}\")\n",
        "number/=3\n",
        "print(f\"The number is divided by 3: {number}\")\n"
      ],
      "metadata": {
        "colab": {
          "base_uri": "https://localhost:8080/"
        },
        "id": "oFDVoxOQNQxn",
        "outputId": "0bffdf43-b73b-42bd-a7bc-09afdba89e5b"
      },
      "execution_count": 4,
      "outputs": [
        {
          "output_type": "stream",
          "name": "stdout",
          "text": [
            "Enter a number: 20\n",
            "The number is 20.0\n",
            "The number is incremented by 10: 30.0\n",
            "The number is decremented by 5: 25.0\n",
            "The number is multiplied by 2: 50.0\n",
            "The number is divided by 3: 16.666666666666668\n"
          ]
        }
      ]
    },
    {
      "cell_type": "code",
      "source": [
        "# Create a program that uses bitwise operators to perform AND, OR, XOR, and NOT operations on two integers provided by the user. Print the binary representation of the results.\n",
        "\n",
        "\n",
        "num1 = int(input(\"Enter first number: \"))\n",
        "num2 = int(input(\"Enter second number: \"))\n",
        "\n",
        "# #AND(&): This operator compares each bit of 2 numbers. example 3 and 5,\n",
        "# 3=011\n",
        "# 5=101\n",
        "# now & will compare both\n",
        "# 011\n",
        "# 101\n",
        "# 001 -> 1 will be the answer\n",
        "\n",
        "print(f\"The bitwise AND of {num1} and {num2} is {num1 & num2}\")\n",
        "\n",
        "print(f\"The bitwise OR of {num1} and {num2} is {num1 | num2}\")\n",
        "\n",
        "# This operator compares each bit of two numbers. The result is 1 if the corresponding bits are different; otherwise, it's 0.\n",
        "# Example: 5 ^ 3 (in binary 101 ^ 011)\n",
        "# 101\n",
        "# 011\n",
        "# ---\n",
        "# 110 (which is 6 in decimal)\n",
        "\n",
        "print(f\"The bitwise XOR of {num1} and {num2} is {num1 ^ num2}\")\n",
        "print(f\"The bitwise NOT of {num1} is {~num1}\")\n",
        "print(f\"The bitwise NOT of {num2} is {~num2}\")\n",
        "\n"
      ],
      "metadata": {
        "colab": {
          "base_uri": "https://localhost:8080/"
        },
        "id": "NrpmuamdN_YS",
        "outputId": "4164a325-81ce-4f69-a3a8-db412bfe2047"
      },
      "execution_count": 8,
      "outputs": [
        {
          "output_type": "stream",
          "name": "stdout",
          "text": [
            "Enter first number: 30\n",
            "Enter second number: 50\n",
            "The bitwise AND of 30 and 50 is 18\n",
            "The bitwise OR of 30 and 50 is 62\n",
            "The bitwise XOR of 30 and 50 is 44\n",
            "The bitwise NOT of 30 is -31\n",
            "The bitwise NOT of 50 is -51\n"
          ]
        }
      ]
    },
    {
      "cell_type": "code",
      "source": [
        "# Create a program that uses bitwise operators to perform AND, OR, XOR, and NOT operations on two integers provided by the user. Print the binary representation of the results.\n",
        "# with function\n",
        "\n",
        "def print_binary(label,result):\n",
        "  print(f\"{label}: {result} in binary {bin(result)}\")\n",
        "\n",
        "num1 = int(input(\"Enter first number: \"))\n",
        "num2 = int(input(\"Enter second number: \"))\n",
        "\n",
        "print_binary(f\"The bitwise of {num1} AND {num2} is \",num1 & num2)\n",
        "\n",
        "print_binary(f\"The bitwise of {num1} OR {num2} is \",num1 | num2)\n",
        "\n",
        "print_binary(f\"The bitwise of {num1} XOR {num2} is \",num1 ^ num2)\n",
        "\n",
        "print_binary(f\"The bitwise NOT of {num1} is \",~num1)\n",
        "\n",
        "print_binary(f\"The bitwise NOT of {num2} is \",~num2)\n",
        "\n",
        "\n"
      ],
      "metadata": {
        "colab": {
          "base_uri": "https://localhost:8080/"
        },
        "id": "Xi1GmJ1kQ2Jn",
        "outputId": "bc37ac89-f1b8-4d8d-a8ad-51c84313952b"
      },
      "execution_count": 11,
      "outputs": [
        {
          "output_type": "stream",
          "name": "stdout",
          "text": [
            "Enter first number: 5\n",
            "Enter second number: 3\n",
            "The bitwise of 5 AND 3 is : 1 in binary 0b1\n",
            "The bitwise of 5 OR 3 is : 7 in binary 0b111\n",
            "The bitwise of 5 XOR 3 is : 6 in binary 0b110\n",
            "The bitwise NOT of 5 is : -6 in binary -0b110\n",
            "The bitwise NOT of 3 is : -4 in binary -0b100\n"
          ]
        }
      ]
    },
    {
      "cell_type": "code",
      "source": [],
      "metadata": {
        "id": "WFa8G9boQ1_n"
      },
      "execution_count": null,
      "outputs": []
    },
    {
      "cell_type": "code",
      "source": [],
      "metadata": {
        "id": "AAH_GyrkQD39"
      },
      "execution_count": null,
      "outputs": []
    }
  ]
}