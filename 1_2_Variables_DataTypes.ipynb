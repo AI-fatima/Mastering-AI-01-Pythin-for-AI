{
  "nbformat": 4,
  "nbformat_minor": 0,
  "metadata": {
    "colab": {
      "provenance": [],
      "authorship_tag": "ABX9TyNil/MsITMn1uFedj7f91sg"
    },
    "kernelspec": {
      "name": "python3",
      "display_name": "Python 3"
    },
    "language_info": {
      "name": "python"
    }
  },
  "cells": [
    {
      "cell_type": "code",
      "execution_count": 2,
      "metadata": {
        "colab": {
          "base_uri": "https://localhost:8080/"
        },
        "id": "_l6Xg9dL73TU",
        "outputId": "00833eeb-f637-4638-811e-f1b07dba7686"
      },
      "outputs": [
        {
          "output_type": "stream",
          "name": "stdout",
          "text": [
            "<class 'int'>\n",
            "<class 'float'>\n",
            "<class 'str'>\n",
            "<class 'bool'>\n"
          ]
        }
      ],
      "source": [
        "# Create variables of different types (int, float, string, bool) and print their types using the type() function.\n",
        "intValue=2\n",
        "decimalValue=2.3\n",
        "sringValue=\"This is string\"\n",
        "boolValue=True\n",
        "print(type(intValue))\n",
        "print(type(decimalValue))\n",
        "print(type(sringValue))\n",
        "print(type(boolValue))\n"
      ]
    },
    {
      "cell_type": "code",
      "source": [
        "# Write a program that asks the user for two numbers and prints their sum, difference, product, and quotient.\n",
        "num1=int(input(\"Enter number 1: \"))\n",
        "num2=int(input(\"Enter number 2: \"))\n",
        "\n",
        "print(f\"\\nSum of {num1} and {num2} is {num1 + num2}\")\n",
        "print(f\"Subtraction of {num1} and {num2} is {num1 - num2} \")\n",
        "print(f\"Multiplication of {num1} and {num2} is {num1 * num2}\")\n",
        "print(f\"Quotient of {num1} and {num2} is {num1 % num2}\")"
      ],
      "metadata": {
        "colab": {
          "base_uri": "https://localhost:8080/"
        },
        "id": "HjaOXfGx9WAT",
        "outputId": "48355d3a-5b75-49cb-8265-6ac259245d6f"
      },
      "execution_count": 5,
      "outputs": [
        {
          "output_type": "stream",
          "name": "stdout",
          "text": [
            "Enter number 1: 4\n",
            "Enter number 2: 5\n",
            "\n",
            "Sum of 4 and 5 is 9\n",
            "Subtraction of 4 and 5 is -1 \n",
            "Multiplication of 4 and 5 is 20\n",
            "Quotient of 4 and 5 is 4\n"
          ]
        }
      ]
    },
    {
      "cell_type": "code",
      "source": [
        "# Convert a float to an integer and observe the loss of precision. Write code to demonstrate this.\n",
        "\n",
        "float_value=1234.6789\n",
        "int_value=int(float_value)\n",
        "\n",
        "print(f\"Original float value: {float_value}\")\n",
        "print(f\"Converted float value: {int_value}\")\n",
        "\n",
        "# below in the code can be seen the lost of precision after the conversion."
      ],
      "metadata": {
        "colab": {
          "base_uri": "https://localhost:8080/"
        },
        "id": "AhS3yQU5-g9f",
        "outputId": "9bc289d7-7ece-47d8-ee2f-a528d8f65da3"
      },
      "execution_count": 7,
      "outputs": [
        {
          "output_type": "stream",
          "name": "stdout",
          "text": [
            "Original float value: 1234.6789\n",
            "Converted float value: 1234\n"
          ]
        }
      ]
    },
    {
      "cell_type": "code",
      "source": [
        "# Write a program that takes a user’s name and age as input, then prints a greeting message including the name and calculates the year they will turn 100 years old.\n",
        "\n",
        "username=input(\"Please enter your Name: \")\n",
        "age = int(input(\"Please enter your age: \"))\n",
        "\n",
        "print(f\"You will turn 100 years old after {100-age} years\")"
      ],
      "metadata": {
        "colab": {
          "base_uri": "https://localhost:8080/"
        },
        "id": "8bJ5dO9gENkp",
        "outputId": "f6c83a5b-a5e5-4952-8157-9fd39e192514"
      },
      "execution_count": 9,
      "outputs": [
        {
          "output_type": "stream",
          "name": "stdout",
          "text": [
            "Please enter your Name: Fatima\n",
            "Please enter your age: 32\n",
            "You will turn 100 years old after 68 years\n"
          ]
        }
      ]
    },
    {
      "cell_type": "code",
      "source": [
        "# Create a program that takes a string input from the user and checks if it can be converted to a number. If it can, convert it and print the number; otherwise, print an error message.\n",
        "\n",
        "def check_and_convert(user_input):\n",
        "  try:\n",
        "    number = float(user_input)\n",
        "    print(f\"The string can be converted to a number: {number}\")\n",
        "  except ValueError:\n",
        "    print(f\"Error: The string can not be converted to a number\")\n",
        "\n",
        "user_input=input(\"Please enter a value\")\n",
        "check_and_convert(user_input)"
      ],
      "metadata": {
        "colab": {
          "base_uri": "https://localhost:8080/"
        },
        "id": "znmjFGf_E-fv",
        "outputId": "1e6d8381-9d97-4f09-93e7-fd04d91dcf5c"
      },
      "execution_count": 14,
      "outputs": [
        {
          "output_type": "stream",
          "name": "stdout",
          "text": [
            "Please enter a valuefsfds\n",
            "Error: The string can not be converted to a number\n"
          ]
        }
      ]
    },
    {
      "cell_type": "code",
      "source": [],
      "metadata": {
        "id": "4lB5lf2zIvNR"
      },
      "execution_count": null,
      "outputs": []
    }
  ]
}